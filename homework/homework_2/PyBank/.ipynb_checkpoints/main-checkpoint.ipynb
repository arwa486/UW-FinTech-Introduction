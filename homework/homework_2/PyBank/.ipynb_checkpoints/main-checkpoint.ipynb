{
 "cells": [
  {
   "cell_type": "code",
   "execution_count": 33,
   "metadata": {},
   "outputs": [],
   "source": [
    "#UW FinTech Bootcamp Homework 2 PyBank Script\n",
    "#Author: Alex Rwamashongye\n",
    "#Date: 12/02/2020 \n",
    "\n",
    "#Using csv library instead of pandas to work with native data structures. \n",
    "import csv\n",
    "from pathlib import Path\n",
    "\n",
    "csvfilepath = Path(r'C:\\users\\thera\\UW-FinTech-Introduction\\python-homework\\PyBank\\Resources\\budget_data.csv')\n",
    "budget_data_list = []\n",
    "with open(csvfilepath, 'r') as csvfile:\n",
    "    budget_data = csv.reader(csvfile, delimiter = ',')\n",
    "    #Creating a nested list/dictionary data structure to manipulate the PyBank data\n",
    "    for row in budget_data:\n",
    "        budget_data_dict = {}\n",
    "        budget_data_dict['date'] = row[0]\n",
    "        budget_data_dict['profit/losses'] = row[1]\n",
    "        budget_data_list.append(budget_data_dict)\n",
    "\n",
    "#Created a copy to remove the file header\n",
    "budget_data_list_copy = budget_data_list.copy()\n",
    "del budget_data_list_copy[0]\n",
    "\n",
    "for row in budget_data_list_copy:\n",
    "    row['profit/losses'] = int(row['profit/losses'])\n",
    "\n",
    "budget_data_list_copy\n",
    "months = len(budget_data_list_copy)\n",
    "\n"
   ]
  },
  {
   "cell_type": "code",
   "execution_count": 39,
   "metadata": {},
   "outputs": [
    {
     "data": {
      "text/plain": [
       "38382578"
      ]
     },
     "execution_count": 39,
     "metadata": {},
     "output_type": "execute_result"
    }
   ],
   "source": [
    "profit_losses_list = []\n",
    "for row in budget_data_list_copy: \n",
    "    profit_losses = {}\n",
    "    profit_losses['profit/losses'] = row['profit/losses']\n",
    "    profit_losses_list.append(profit_losses)\n",
    "\n",
    "net_profit = sum(row['profit/losses'] for row in profit_losses_list)\n"
   ]
  },
  {
   "cell_type": "code",
   "execution_count": 46,
   "metadata": {},
   "outputs": [
    {
     "data": {
      "text/plain": [
       "-2315.1176470588234"
      ]
     },
     "execution_count": 46,
     "metadata": {},
     "output_type": "execute_result"
    }
   ],
   "source": [
    "pct_change = [(profit_losses_list[i+1]['profit/losses'] - profit_losses_list[i]['profit/losses'])/profit_losses_list[i]['profit/losses'] for i in range(len(profit_losses_list)-1)]\n",
    "change =[(profit_losses_list[i+1]['profit/losses'] - profit_losses_list[i]['profit/losses']) for i in range(len(profit_losses_list)-1)]\n",
    "pct_change \n",
    "change\n",
    "avg_change = sum(change)/(len(change))\n",
    "avg_change"
   ]
  },
  {
   "cell_type": "code",
   "execution_count": 85,
   "metadata": {},
   "outputs": [
    {
     "data": {
      "text/plain": [
       "{'date': 'Sep-2013', 'profit/losses': -1196225}"
      ]
     },
     "execution_count": 85,
     "metadata": {},
     "output_type": "execute_result"
    }
   ],
   "source": [
    "budget_data_list_copy.sort(key = (lambda r: r['profit/losses']), reverse = True)\n",
    "\n",
    "max_profit = budget_data_list_copy[0]\n",
    "min_profit = budget_data_list_copy[-1]\n",
    "\n",
    "max_profit \n",
    "min_profit "
   ]
  },
  {
   "cell_type": "code",
   "execution_count": null,
   "metadata": {},
   "outputs": [],
   "source": []
  },
  {
   "cell_type": "code",
   "execution_count": 94,
   "metadata": {},
   "outputs": [
    {
     "name": "stdout",
     "output_type": "stream",
     "text": [
      " Financial Analysis\n",
      "\n",
      " -----------------------------------\n",
      "\n",
      " Total Months: 86 \n",
      "\n",
      " Total: $38382578 \n",
      "\n",
      " Average Change: $-2315.12 \n",
      "\n",
      " Greatest Increase in Profits: Feb-2012 $(1170593)\n",
      "\n",
      " Greatest Decrease in Profits: Sep-2013 $(-1196225)\n",
      " Financial Analysis\n",
      "\n",
      " -----------------------------------\n",
      "\n",
      " Total Months: 86 \n",
      "\n",
      " Total: $38382578 \n",
      "\n",
      " Average Change: $-2315.12 \n",
      "\n",
      " Greatest Increase in Profits: Feb-2012 $(1170593)\n",
      "\n",
      " Greatest Decrease in Profits: Sep-2013 $(-1196225)\n"
     ]
    }
   ],
   "source": [
    "financial_analysis = \"\"\" Financial Analysis\n",
    "\\n -----------------------------------\n",
    "\\n Total Months: {} \n",
    "\\n Total: ${} \n",
    "\\n Average Change: ${} \n",
    "\\n Greatest Increase in Profits: {} $({})\n",
    "\\n Greatest Decrease in Profits: {} $({})\"\"\"\n",
    "\n",
    "print(financial_analysis.format(months, net_profit, round(avg_change, 2), max_profit['date'], max_profit['profit/losses'], min_profit['date'], min_profit['profit/losses']))\n",
    "financial_analysis_out = print(financial_analysis.format(months, net_profit, round(avg_change, 2), max_profit['date'], max_profit['profit/losses'], min_profit['date'], min_profit['profit/losses']))\n",
    "\n",
    "with open('budget_data_analysis.txt', 'w') as f:\n",
    "    "
   ]
  }
 ],
 "metadata": {
  "kernelspec": {
   "display_name": "Python 3",
   "language": "python",
   "name": "python3"
  },
  "language_info": {
   "codemirror_mode": {
    "name": "ipython",
    "version": 3
   },
   "file_extension": ".py",
   "mimetype": "text/x-python",
   "name": "python",
   "nbconvert_exporter": "python",
   "pygments_lexer": "ipython3",
   "version": "3.8.3"
  }
 },
 "nbformat": 4,
 "nbformat_minor": 4
}
