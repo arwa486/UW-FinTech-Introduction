{
 "cells": [
  {
   "cell_type": "code",
   "execution_count": 8,
   "metadata": {},
   "outputs": [],
   "source": [
    "#list of numbers, find the most frequent number within that list\n",
    "\n",
    "#define function to count the most number of instances; create a data structure to count each instance; return the instance with the highest count \n",
    "\n",
    "def mode(list_input):\n",
    "    #Assuming the data types passed will be an integer or a float. \n",
    "    #Initiate the data structure to 'count' the instances. Create a key for each of the items in list_input, the recycle through list_input adding the count to each key.\n",
    "    #The dictionary would then be sorted by the highest value. Function would return the Key-Value pair with highest value. \n",
    "    output = {} \n",
    "    #Create the conditional logic to go through the data structure input\n",
    "    for item in list_input:\n",
    "        #Check if 'item' is output Dictionary keys\n",
    "        if item in output.keys(): \n",
    "            output[item] += 1\n",
    "        else:\n",
    "            output[item] = 1 \n",
    "    \n",
    "    #Sort output by the values \n",
    "    output = {k:v for k, v in sorted(output.items(), reverse = True, key = lambda item: item[1])}\n",
    "    \n",
    "    #Returning more modes \n",
    "    return list(output.keys())[0]"
   ]
  },
  {
   "cell_type": "code",
   "execution_count": 12,
   "metadata": {},
   "outputs": [
    {
     "data": {
      "text/plain": [
       "2.0"
      ]
     },
     "execution_count": 12,
     "metadata": {},
     "output_type": "execute_result"
    }
   ],
   "source": [
    "test = [1, 2.0, 2, 3]\n",
    "mode(test)"
   ]
  },
  {
   "cell_type": "code",
   "execution_count": null,
   "metadata": {},
   "outputs": [],
   "source": []
  },
  {
   "cell_type": "code",
   "execution_count": 10,
   "metadata": {},
   "outputs": [
    {
     "data": {
      "text/plain": [
       "1"
      ]
     },
     "execution_count": 10,
     "metadata": {},
     "output_type": "execute_result"
    }
   ],
   "source": [
    "test2 = [1, 1, 2, 2, 3]\n",
    "mode(test2)"
   ]
  },
  {
   "cell_type": "code",
   "execution_count": 11,
   "metadata": {},
   "outputs": [
    {
     "data": {
      "text/plain": [
       "1"
      ]
     },
     "execution_count": 11,
     "metadata": {},
     "output_type": "execute_result"
    }
   ],
   "source": [
    "test3 = [1, 2, 3, 2, 1] \n",
    "mode(test3)"
   ]
  },
  {
   "cell_type": "code",
   "execution_count": null,
   "metadata": {},
   "outputs": [],
   "source": []
  }
 ],
 "metadata": {
  "kernelspec": {
   "display_name": "Python 3",
   "language": "python",
   "name": "python3"
  },
  "language_info": {
   "codemirror_mode": {
    "name": "ipython",
    "version": 3
   },
   "file_extension": ".py",
   "mimetype": "text/x-python",
   "name": "python",
   "nbconvert_exporter": "python",
   "pygments_lexer": "ipython3",
   "version": "3.8.3"
  }
 },
 "nbformat": 4,
 "nbformat_minor": 4
}
