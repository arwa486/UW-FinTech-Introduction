{
 "cells": [
  {
   "cell_type": "code",
   "execution_count": 2,
   "metadata": {},
   "outputs": [],
   "source": [
    "import pandas as pd \n",
    "from path import Path\n",
    "import numpy as np "
   ]
  },
  {
   "cell_type": "code",
   "execution_count": 6,
   "metadata": {},
   "outputs": [
    {
     "data": {
      "text/html": [
       "<div>\n",
       "<style scoped>\n",
       "    .dataframe tbody tr th:only-of-type {\n",
       "        vertical-align: middle;\n",
       "    }\n",
       "\n",
       "    .dataframe tbody tr th {\n",
       "        vertical-align: top;\n",
       "    }\n",
       "\n",
       "    .dataframe thead th {\n",
       "        text-align: right;\n",
       "    }\n",
       "</style>\n",
       "<table border=\"1\" class=\"dataframe\">\n",
       "  <thead>\n",
       "    <tr style=\"text-align: right;\">\n",
       "      <th></th>\n",
       "      <th>Close</th>\n",
       "      <th>Date.1</th>\n",
       "      <th>Close.1</th>\n",
       "      <th>Date.2</th>\n",
       "      <th>Close.2</th>\n",
       "    </tr>\n",
       "    <tr>\n",
       "      <th>Date</th>\n",
       "      <th></th>\n",
       "      <th></th>\n",
       "      <th></th>\n",
       "      <th></th>\n",
       "      <th></th>\n",
       "    </tr>\n",
       "  </thead>\n",
       "  <tbody>\n",
       "    <tr>\n",
       "      <th>2016-09-13 16:00:00</th>\n",
       "      <td>14.76</td>\n",
       "      <td>1/4/2016 16:00:00</td>\n",
       "      <td>23.93</td>\n",
       "      <td>1/4/2016 16:00:00</td>\n",
       "      <td>18.80</td>\n",
       "    </tr>\n",
       "    <tr>\n",
       "      <th>2016-09-16 16:00:00</th>\n",
       "      <td>14.70</td>\n",
       "      <td>1/5/2016 16:00:00</td>\n",
       "      <td>23.79</td>\n",
       "      <td>1/5/2016 16:00:00</td>\n",
       "      <td>18.88</td>\n",
       "    </tr>\n",
       "    <tr>\n",
       "      <th>2016-09-19 16:00:00</th>\n",
       "      <td>14.84</td>\n",
       "      <td>1/6/2016 16:00:00</td>\n",
       "      <td>23.22</td>\n",
       "      <td>1/6/2016 16:00:00</td>\n",
       "      <td>18.51</td>\n",
       "    </tr>\n",
       "    <tr>\n",
       "      <th>2016-09-20 16:00:00</th>\n",
       "      <td>14.97</td>\n",
       "      <td>1/7/2016 16:00:00</td>\n",
       "      <td>22.75</td>\n",
       "      <td>1/7/2016 16:00:00</td>\n",
       "      <td>18.19</td>\n",
       "    </tr>\n",
       "    <tr>\n",
       "      <th>2016-09-22 16:00:00</th>\n",
       "      <td>15.32</td>\n",
       "      <td>1/8/2016 16:00:00</td>\n",
       "      <td>22.40</td>\n",
       "      <td>1/8/2016 16:00:00</td>\n",
       "      <td>17.57</td>\n",
       "    </tr>\n",
       "  </tbody>\n",
       "</table>\n",
       "</div>"
      ],
      "text/plain": [
       "                     Close             Date.1  Close.1             Date.2  \\\n",
       "Date                                                                        \n",
       "2016-09-13 16:00:00  14.76  1/4/2016 16:00:00    23.93  1/4/2016 16:00:00   \n",
       "2016-09-16 16:00:00  14.70  1/5/2016 16:00:00    23.79  1/5/2016 16:00:00   \n",
       "2016-09-19 16:00:00  14.84  1/6/2016 16:00:00    23.22  1/6/2016 16:00:00   \n",
       "2016-09-20 16:00:00  14.97  1/7/2016 16:00:00    22.75  1/7/2016 16:00:00   \n",
       "2016-09-22 16:00:00  15.32  1/8/2016 16:00:00    22.40  1/8/2016 16:00:00   \n",
       "\n",
       "                     Close.2  \n",
       "Date                          \n",
       "2016-09-13 16:00:00    18.80  \n",
       "2016-09-16 16:00:00    18.88  \n",
       "2016-09-19 16:00:00    18.51  \n",
       "2016-09-20 16:00:00    18.19  \n",
       "2016-09-22 16:00:00    17.57  "
      ]
     },
     "execution_count": 6,
     "metadata": {},
     "output_type": "execute_result"
    }
   ],
   "source": [
    "csvpath = Path('Robotics and AI ETFs - Sheet1.csv')\n",
    "df = pd.read_csv(csvpath, index_col = 'Date', infer_datetime_format = True, parse_dates = True)\n",
    "\n",
    "df.head()"
   ]
  },
  {
   "cell_type": "code",
   "execution_count": null,
   "metadata": {},
   "outputs": [],
   "source": [
    "df.columns = ['BOTZ', 'ROBO', 'ARKQ']"
   ]
  }
 ],
 "metadata": {
  "kernelspec": {
   "display_name": "Python 3",
   "language": "python",
   "name": "python3"
  },
  "language_info": {
   "codemirror_mode": {
    "name": "ipython",
    "version": 3
   },
   "file_extension": ".py",
   "mimetype": "text/x-python",
   "name": "python",
   "nbconvert_exporter": "python",
   "pygments_lexer": "ipython3",
   "version": "3.8.3"
  }
 },
 "nbformat": 4,
 "nbformat_minor": 4
}
