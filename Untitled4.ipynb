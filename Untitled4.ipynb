{
 "cells": [
  {
   "cell_type": "code",
   "execution_count": null,
   "metadata": {},
   "outputs": [],
   "source": [
    "#Create a function that takes in a list of floats (assuming the input is clean) and returns the max_profit, min_buy and max_sell \n",
    "\n",
    "#Define my function \n",
    "\n",
    "def max_profit():\n",
    "    try:\n",
    "        while True:\n",
    "            stocklist = input()\n",
    "             \n",
    "            #stocklist = float(stocklist)\n",
    "            #max_profit, max_sell, min_buy = None, None, None\n",
    "            #max_sell = max(stocklist)\n",
    "            #min_buy = min(stocklist)\n",
    "            #max_profit = max_sell - min_buy\n",
    "            #print (f'Max Profit: ${max_profit} \\nSell at: ${max_sell} \\nBuy at: ${min_buy}')\n",
    "            print(stocklist)\n",
    "    \n",
    "    except KeyboardInterrupt:\n",
    "        print('End of Program')\n",
    "    \n",
    "    "
   ]
  },
  {
   "cell_type": "code",
   "execution_count": null,
   "metadata": {},
   "outputs": [],
   "source": [
    "test = [1.41, 1.45, 1.42, 1.38, 1.63, 1.65, 1.76, 1.83, 1.95, 1.88, 1.87, 1.82, 1.85, 1.85, 1.99, 2.00, 2.04, 1.93]\n",
    "max_profit()"
   ]
  }
 ],
 "metadata": {
  "kernelspec": {
   "display_name": "Python 3",
   "language": "python",
   "name": "python3"
  },
  "language_info": {
   "codemirror_mode": {
    "name": "ipython",
    "version": 3
   },
   "file_extension": ".py",
   "mimetype": "text/x-python",
   "name": "python",
   "nbconvert_exporter": "python",
   "pygments_lexer": "ipython3",
   "version": "3.8.3"
  }
 },
 "nbformat": 4,
 "nbformat_minor": 4
}
