{
 "cells": [
  {
   "cell_type": "code",
   "execution_count": 43,
   "metadata": {},
   "outputs": [],
   "source": [
    "#Assuming that the input is alpha-characters and is complete \"i.e. no spaces\"\n",
    "\n",
    "#Create a function to solve the challenge \n",
    "\n",
    "def palindrome(string_input):\n",
    "    #First list of the input to compare. \n",
    "    list1 = list(string_input)\n",
    "    #Second list of the input to reverse order to compare. \n",
    "    #Use list comprehension to reverse the order of the first list by item. \n",
    "    \n",
    "    #Boolean comparison\n",
    "    if list1 == list1.reverse()\n",
    "        return True \n",
    "    else:\n",
    "        return False\n",
    "    \n"
   ]
  },
  {
   "cell_type": "code",
   "execution_count": 48,
   "metadata": {},
   "outputs": [
    {
     "name": "stdout",
     "output_type": "stream",
     "text": [
      "None\n"
     ]
    }
   ],
   "source": []
  },
  {
   "cell_type": "code",
   "execution_count": 42,
   "metadata": {},
   "outputs": [],
   "source": [
    "="
   ]
  }
 ],
 "metadata": {
  "kernelspec": {
   "display_name": "Python 3",
   "language": "python",
   "name": "python3"
  },
  "language_info": {
   "codemirror_mode": {
    "name": "ipython",
    "version": 3
   },
   "file_extension": ".py",
   "mimetype": "text/x-python",
   "name": "python",
   "nbconvert_exporter": "python",
   "pygments_lexer": "ipython3",
   "version": "3.8.3"
  }
 },
 "nbformat": 4,
 "nbformat_minor": 4
}
